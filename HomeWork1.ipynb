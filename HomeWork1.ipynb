{
  "nbformat": 4,
  "nbformat_minor": 0,
  "metadata": {
    "colab": {
      "name": "HomeWork1.ipynb",
      "provenance": [],
      "collapsed_sections": [],
      "authorship_tag": "ABX9TyPMVzi9GPKyKBbbM07ytSYB",
      "include_colab_link": true
    },
    "kernelspec": {
      "name": "python3",
      "display_name": "Python 3"
    },
    "language_info": {
      "name": "python"
    }
  },
  "cells": [
    {
      "cell_type": "markdown",
      "metadata": {
        "id": "view-in-github",
        "colab_type": "text"
      },
      "source": [
        "<a href=\"https://colab.research.google.com/github/4070E094/TEST/blob/main/HomeWork1.ipynb\" target=\"_parent\"><img src=\"https://colab.research.google.com/assets/colab-badge.svg\" alt=\"Open In Colab\"/></a>"
      ]
    },
    {
      "cell_type": "code",
      "metadata": {
        "id": "skZouJdRL1Xo"
      },
      "source": [
        "#print(\"Hello, Python!\")"
      ],
      "execution_count": null,
      "outputs": []
    },
    {
      "cell_type": "code",
      "metadata": {
        "colab": {
          "base_uri": "https://localhost:8080/",
          "height": 129
        },
        "id": "E-RPRTc0MWAm",
        "outputId": "2c5baa96-f8d9-49c6-8a49-52226b62f0ec"
      },
      "source": [
        "(1)school (2)ksu\n",
        "#not complete"
      ],
      "execution_count": 47,
      "outputs": [
        {
          "output_type": "error",
          "ename": "SyntaxError",
          "evalue": "ignored",
          "traceback": [
            "\u001b[0;36m  File \u001b[0;32m\"<ipython-input-47-1e23b866f473>\"\u001b[0;36m, line \u001b[0;32m1\u001b[0m\n\u001b[0;31m    (1)school (2)ksu\u001b[0m\n\u001b[0m            ^\u001b[0m\n\u001b[0;31mSyntaxError\u001b[0m\u001b[0;31m:\u001b[0m invalid syntax\n"
          ]
        }
      ]
    },
    {
      "cell_type": "code",
      "metadata": {
        "colab": {
          "base_uri": "https://localhost:8080/"
        },
        "id": "MGfrPS2vM7nJ",
        "outputId": "c0975efd-4480-4e6d-b885-f7816929be63"
      },
      "source": [
        "y = 65535\n",
        "print(type(y))"
      ],
      "execution_count": 48,
      "outputs": [
        {
          "output_type": "stream",
          "text": [
            "<class 'int'>\n"
          ],
          "name": "stdout"
        }
      ]
    },
    {
      "cell_type": "code",
      "metadata": {
        "colab": {
          "base_uri": "https://localhost:8080/"
        },
        "id": "5kYTjGH1OZBn",
        "outputId": "30d27245-e7ac-486e-a499-4e6101aedfa0"
      },
      "source": [
        "string1 = \"Hello, Python!\"\n",
        "print(len(string1))"
      ],
      "execution_count": 49,
      "outputs": [
        {
          "output_type": "stream",
          "text": [
            "14\n"
          ],
          "name": "stdout"
        }
      ]
    },
    {
      "cell_type": "code",
      "metadata": {
        "colab": {
          "base_uri": "https://localhost:8080/"
        },
        "id": "CVvWMcrvPAXB",
        "outputId": "64919ccb-e0b3-48a4-bfb3-1fb5940275b7"
      },
      "source": [
        "print(100 < 200)"
      ],
      "execution_count": 50,
      "outputs": [
        {
          "output_type": "stream",
          "text": [
            "True\n"
          ],
          "name": "stdout"
        }
      ]
    },
    {
      "cell_type": "code",
      "metadata": {
        "colab": {
          "base_uri": "https://localhost:8080/"
        },
        "id": "9lifodhQPOx_",
        "outputId": "a7d4036e-9f0b-467a-88ff-00bec5fb4ded"
      },
      "source": [
        "a = bool(100)\n",
        "print(a)"
      ],
      "execution_count": 51,
      "outputs": [
        {
          "output_type": "stream",
          "text": [
            "True\n"
          ],
          "name": "stdout"
        }
      ]
    },
    {
      "cell_type": "code",
      "metadata": {
        "colab": {
          "base_uri": "https://localhost:8080/"
        },
        "id": "43sKdWOUPi53",
        "outputId": "75257dd5-2de3-4982-8860-d4cd25a02bea"
      },
      "source": [
        "a = [\"Python\",\"True\",\"1234\"]\n",
        "print(type(a))"
      ],
      "execution_count": 52,
      "outputs": [
        {
          "output_type": "stream",
          "text": [
            "<class 'list'>\n"
          ],
          "name": "stdout"
        }
      ]
    },
    {
      "cell_type": "code",
      "metadata": {
        "colab": {
          "base_uri": "https://localhost:8080/"
        },
        "id": "czElzmuZQkQQ",
        "outputId": "cab5e417-9906-456b-b14f-143503095325"
      },
      "source": [
        "a = {\"name\": \"Eric\",\"age\":90}\n",
        "print(type(a))"
      ],
      "execution_count": 53,
      "outputs": [
        {
          "output_type": "stream",
          "text": [
            "<class 'dict'>\n"
          ],
          "name": "stdout"
        }
      ]
    },
    {
      "cell_type": "code",
      "metadata": {
        "colab": {
          "base_uri": "https://localhost:8080/"
        },
        "id": "ez47h8pbR6u4",
        "outputId": "dd5ef21c-9612-4bb9-deea-6bb5162d89aa"
      },
      "source": [
        "a = \"Hello Python\"\n",
        "print(a)"
      ],
      "execution_count": 54,
      "outputs": [
        {
          "output_type": "stream",
          "text": [
            "Hello Python\n"
          ],
          "name": "stdout"
        }
      ]
    },
    {
      "cell_type": "code",
      "metadata": {
        "colab": {
          "base_uri": "https://localhost:8080/"
        },
        "id": "EZU7b6jXSNjS",
        "outputId": "ea23d988-f6e3-458e-c08f-6cffaa7cda1d"
      },
      "source": [
        "a = \"Hello, World!\"\n",
        "print(a[2:5])"
      ],
      "execution_count": 55,
      "outputs": [
        {
          "output_type": "stream",
          "text": [
            "llo\n"
          ],
          "name": "stdout"
        }
      ]
    },
    {
      "cell_type": "code",
      "metadata": {
        "colab": {
          "base_uri": "https://localhost:8080/"
        },
        "id": "274UpG9ESkex",
        "outputId": "4c62f9e2-a7ec-43a5-8ff2-36ce57c76543"
      },
      "source": [
        "a = \"         HelloPython\"\n",
        "print(a.strip())"
      ],
      "execution_count": 56,
      "outputs": [
        {
          "output_type": "stream",
          "text": [
            "HelloPython\n"
          ],
          "name": "stdout"
        }
      ]
    },
    {
      "cell_type": "code",
      "metadata": {
        "colab": {
          "base_uri": "https://localhost:8080/",
          "height": 196
        },
        "id": "iQ1a73xKS9Pp",
        "outputId": "507f099b-1e23-4a94-9142-ebbe79dfccb6"
      },
      "source": [
        "a = \"Kun Shan\"\n",
        "b = 100\n",
        "print(a + b)"
      ],
      "execution_count": 58,
      "outputs": [
        {
          "output_type": "error",
          "ename": "TypeError",
          "evalue": "ignored",
          "traceback": [
            "\u001b[0;31m---------------------------------------------------------------------------\u001b[0m",
            "\u001b[0;31mTypeError\u001b[0m                                 Traceback (most recent call last)",
            "\u001b[0;32m<ipython-input-58-437428deb308>\u001b[0m in \u001b[0;36m<module>\u001b[0;34m()\u001b[0m\n\u001b[1;32m      1\u001b[0m \u001b[0ma\u001b[0m \u001b[0;34m=\u001b[0m \u001b[0;34m\"Kun Shan\"\u001b[0m\u001b[0;34m\u001b[0m\u001b[0;34m\u001b[0m\u001b[0m\n\u001b[1;32m      2\u001b[0m \u001b[0mb\u001b[0m \u001b[0;34m=\u001b[0m \u001b[0;36m100\u001b[0m\u001b[0;34m\u001b[0m\u001b[0;34m\u001b[0m\u001b[0m\n\u001b[0;32m----> 3\u001b[0;31m \u001b[0mprint\u001b[0m\u001b[0;34m(\u001b[0m\u001b[0ma\u001b[0m \u001b[0;34m+\u001b[0m \u001b[0mb\u001b[0m\u001b[0;34m)\u001b[0m\u001b[0;34m\u001b[0m\u001b[0;34m\u001b[0m\u001b[0m\n\u001b[0m",
            "\u001b[0;31mTypeError\u001b[0m: can only concatenate str (not \"int\") to str"
          ]
        }
      ]
    },
    {
      "cell_type": "code",
      "metadata": {
        "colab": {
          "base_uri": "https://localhost:8080/"
        },
        "id": "9ryoFwttT9Sa",
        "outputId": "8e77ce6e-bd57-47f0-f669-5ac1dc8cf077"
      },
      "source": [
        "a = '{1} Kun Shan {0}'\n",
        "b = 'University'\n",
        "print(a.format(b,'Hello'))"
      ],
      "execution_count": 60,
      "outputs": [
        {
          "output_type": "stream",
          "text": [
            "Hello Kun Shan University\n"
          ],
          "name": "stdout"
        }
      ]
    },
    {
      "cell_type": "code",
      "metadata": {
        "colab": {
          "base_uri": "https://localhost:8080/"
        },
        "id": "T79rsQNGBF1g",
        "outputId": "2b835236-560d-495f-f35c-4e7720ae8eb9"
      },
      "source": [
        "a = \"Kun Shan\"\n",
        "print(len(a))\n"
      ],
      "execution_count": 13,
      "outputs": [
        {
          "output_type": "stream",
          "text": [
            "8\n"
          ],
          "name": "stdout"
        }
      ]
    },
    {
      "cell_type": "code",
      "metadata": {
        "colab": {
          "base_uri": "https://localhost:8080/"
        },
        "id": "qkdtj_96CXG0",
        "outputId": "9e6332da-adc1-4b58-9fab-68ede6ee0448"
      },
      "source": [
        "a = \"Python\"\n",
        "print(a.upper())"
      ],
      "execution_count": 63,
      "outputs": [
        {
          "output_type": "stream",
          "text": [
            "PYTHON\n"
          ],
          "name": "stdout"
        }
      ]
    },
    {
      "cell_type": "code",
      "metadata": {
        "colab": {
          "base_uri": "https://localhost:8080/"
        },
        "id": "wYo8BcxeDfiN",
        "outputId": "7bb84964-7281-4cc7-ccff-fdb19d0bbd8c"
      },
      "source": [
        "print(\"%s Python! %d\" %(\"Hello\",123))"
      ],
      "execution_count": 16,
      "outputs": [
        {
          "output_type": "stream",
          "text": [
            "Hello Python! 123\n"
          ],
          "name": "stdout"
        }
      ]
    },
    {
      "cell_type": "code",
      "metadata": {
        "colab": {
          "base_uri": "https://localhost:8080/"
        },
        "id": "A6kF9ZwMD5mM",
        "outputId": "a83fdd61-c9f1-4fa5-f19c-e17229f9fa06"
      },
      "source": [
        "a =\"Hello Python!\"\n",
        "a = a.replace(\"o\",\"x\")\n",
        "print(a)"
      ],
      "execution_count": 19,
      "outputs": [
        {
          "output_type": "stream",
          "text": [
            "Hellx Pythxn!\n"
          ],
          "name": "stdout"
        }
      ]
    },
    {
      "cell_type": "code",
      "metadata": {
        "colab": {
          "base_uri": "https://localhost:8080/"
        },
        "id": "a5SYhNoqE6Ks",
        "outputId": "04e2cffe-2056-43a1-e4b7-815038af8671"
      },
      "source": [
        "if 100:\n",
        "  print(\"Hello\")"
      ],
      "execution_count": 20,
      "outputs": [
        {
          "output_type": "stream",
          "text": [
            "Hello\n"
          ],
          "name": "stdout"
        }
      ]
    },
    {
      "cell_type": "code",
      "metadata": {
        "id": "ZjfVgJDDFHML"
      },
      "source": [
        "if 0:\n",
        "  print(\"Hello\")"
      ],
      "execution_count": 23,
      "outputs": []
    },
    {
      "cell_type": "code",
      "metadata": {
        "id": "VY--diQJFYjL"
      },
      "source": [
        "if 100 == \"100\":\n",
        "  print(\"Hello\")"
      ],
      "execution_count": 25,
      "outputs": []
    },
    {
      "cell_type": "code",
      "metadata": {
        "colab": {
          "base_uri": "https://localhost:8080/"
        },
        "id": "eQTAfd5DFtSc",
        "outputId": "1458a233-7ad0-4e40-c928-e6a3674a8307"
      },
      "source": [
        "if 100 >= 1:\n",
        "  print(\"Hello\")"
      ],
      "execution_count": 26,
      "outputs": [
        {
          "output_type": "stream",
          "text": [
            "Hello\n"
          ],
          "name": "stdout"
        }
      ]
    },
    {
      "cell_type": "code",
      "metadata": {
        "colab": {
          "base_uri": "https://localhost:8080/"
        },
        "id": "fakexKpZF-W0",
        "outputId": "c94610af-cd56-4018-dbe3-eaa974bb0f07"
      },
      "source": [
        "a = 50\n",
        "b = 1000\n",
        "print(\"A\") if a > b else print(\"B\")"
      ],
      "execution_count": 27,
      "outputs": [
        {
          "output_type": "stream",
          "text": [
            "B\n"
          ],
          "name": "stdout"
        }
      ]
    },
    {
      "cell_type": "code",
      "metadata": {
        "colab": {
          "base_uri": "https://localhost:8080/"
        },
        "id": "uEtWM9-XGQPM",
        "outputId": "bcbb0033-c2c5-47a4-e5a2-9a766ea91589"
      },
      "source": [
        "x = 10\n",
        "if x >= 10:\n",
        "  if x > 20:\n",
        "    print(\"1\")\n",
        "  else:\n",
        "    print(\"2\")"
      ],
      "execution_count": 28,
      "outputs": [
        {
          "output_type": "stream",
          "text": [
            "2\n"
          ],
          "name": "stdout"
        }
      ]
    },
    {
      "cell_type": "code",
      "metadata": {
        "id": "3AjfNn2RGoi8"
      },
      "source": [
        "a = 33\n",
        "b = 32\n",
        "x = 10\n",
        "\n",
        "if b > a:\n",
        "  print (\"b > a\")\n",
        "elif a == b:\n",
        "  if x >= 10:\n",
        "    if x > 20:\n",
        "      print(\"1\")\n",
        "    else:\n",
        "      print(\"2\")"
      ],
      "execution_count": 31,
      "outputs": []
    },
    {
      "cell_type": "code",
      "metadata": {
        "colab": {
          "base_uri": "https://localhost:8080/"
        },
        "id": "XhUBM42AHPmV",
        "outputId": "40366f6c-8f8d-4a50-d9da-2c1091777ab3"
      },
      "source": [
        "thisislist = [1,2,3,4,5]\n",
        "print(thislist[-4])"
      ],
      "execution_count": 37,
      "outputs": [
        {
          "output_type": "stream",
          "text": [
            "2\n"
          ],
          "name": "stdout"
        }
      ]
    },
    {
      "cell_type": "code",
      "metadata": {
        "colab": {
          "base_uri": "https://localhost:8080/"
        },
        "id": "WVl7LxQWHlQk",
        "outputId": "aee4fdfb-1d44-4112-d729-d04cf580670a"
      },
      "source": [
        "thisislist = [1,2,3,4,5]\n",
        "print(thislist[1:4])"
      ],
      "execution_count": 65,
      "outputs": [
        {
          "output_type": "stream",
          "text": [
            "[2, 3, 4]\n"
          ],
          "name": "stdout"
        }
      ]
    },
    {
      "cell_type": "code",
      "metadata": {
        "id": "LyPkwGNxHyAf"
      },
      "source": [
        "thisislist = [1,2,3,4,5]\n",
        "thisislist.append(6)\n",
        "#not complete"
      ],
      "execution_count": 68,
      "outputs": []
    },
    {
      "cell_type": "code",
      "metadata": {
        "colab": {
          "base_uri": "https://localhost:8080/"
        },
        "id": "rOqnQhYrgO43",
        "outputId": "aaccb1f5-1195-4d3c-c8e6-a8dab18009ca"
      },
      "source": [
        "thisisdict = {'a':1,'b':2,'c':3}\n",
        "if\"a\" in thisisdict:\n",
        "  print(\"Yes\")"
      ],
      "execution_count": 69,
      "outputs": [
        {
          "output_type": "stream",
          "text": [
            "Yes\n"
          ],
          "name": "stdout"
        }
      ]
    },
    {
      "cell_type": "code",
      "metadata": {
        "colab": {
          "base_uri": "https://localhost:8080/"
        },
        "id": "rFYcNFAXhGbm",
        "outputId": "5de39775-4502-4420-d8d2-d3aa2b103638"
      },
      "source": [
        "thisisdict1 = dict(a=\"1\", b=\"2\", c=3)\n",
        "print(thisisdict1)\n"
      ],
      "execution_count": 70,
      "outputs": [
        {
          "output_type": "stream",
          "text": [
            "{'a': '1', 'b': '2', 'c': 3}\n"
          ],
          "name": "stdout"
        }
      ]
    },
    {
      "cell_type": "code",
      "metadata": {
        "colab": {
          "base_uri": "https://localhost:8080/"
        },
        "id": "WlD-rfVziBn_",
        "outputId": "516f6977-d121-490f-e9b8-cd04404cca69"
      },
      "source": [
        "thisisdict1 = dict(a=\"1\", b=\"2\", c=3)\n",
        "thisisdict1.pop(\"b\")\n",
        "print(thisisdict1)\n"
      ],
      "execution_count": 73,
      "outputs": [
        {
          "output_type": "stream",
          "text": [
            "{'a': '1', 'c': 3}\n"
          ],
          "name": "stdout"
        }
      ]
    },
    {
      "cell_type": "code",
      "metadata": {
        "colab": {
          "base_uri": "https://localhost:8080/"
        },
        "id": "AEzMNQJ3kf8W",
        "outputId": "0822b9bf-9494-4e2c-9c91-fa8356a41a82"
      },
      "source": [
        "i = 20\n",
        "while i < 60:\n",
        "  i -= -1\n",
        "print(i)"
      ],
      "execution_count": 76,
      "outputs": [
        {
          "output_type": "stream",
          "text": [
            "60\n"
          ],
          "name": "stdout"
        }
      ]
    },
    {
      "cell_type": "code",
      "metadata": {
        "id": "99frub2jn2rC"
      },
      "source": [
        "i = 20\n",
        "while i == 20:\n",
        "  print(\"ok\")"
      ],
      "execution_count": null,
      "outputs": []
    },
    {
      "cell_type": "code",
      "metadata": {
        "colab": {
          "base_uri": "https://localhost:8080/"
        },
        "id": "LCR5ke_vpNNh",
        "outputId": "0d632ae1-4cfb-4c36-87b6-564e93072e23"
      },
      "source": [
        "i = 20\n",
        "while i == 20:\n",
        "  print(\"ok\")\n",
        "  break"
      ],
      "execution_count": 78,
      "outputs": [
        {
          "output_type": "stream",
          "text": [
            "ok\n"
          ],
          "name": "stdout"
        }
      ]
    }
  ]
}